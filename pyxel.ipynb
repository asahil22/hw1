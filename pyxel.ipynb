{
 "cells": [
  {
   "cell_type": "code",
   "execution_count": null,
   "metadata": {},
   "outputs": [],
   "source": [
    "import pyxel\n",
    "\n",
    "pyxel.init(120, 80)\n",
    "pyxel.cls(2)\n",
    "print(pyxel.mouse_x)\n",
    "pyxel.line(5, 10, 5, 25, 5)\n",
    "print(pyxel.mouse_x)\n",
    "pyxel.line(5, 25, 20, 25, 4)\n",
    "pyxel.line(20, 25, 20, 10, 3)\n",
    "pyxel.line(20, 10, 5, 10, 1)\n",
    "pyxel.show()\n",
    "#принт пиксель маус выдает два нуля, не знаю, что делать,\n",
    "#если после передвижения к какой-то точке курсор мыши постоянно на нуле оказывается"
   ]
  }
 ],
 "metadata": {
  "kernelspec": {
   "display_name": "Python 3",
   "language": "python",
   "name": "python3"
  },
  "language_info": {
   "codemirror_mode": {
    "name": "ipython",
    "version": 3
   },
   "file_extension": ".py",
   "mimetype": "text/x-python",
   "name": "python",
   "nbconvert_exporter": "python",
   "pygments_lexer": "ipython3",
   "version": "3.7.6"
  }
 },
 "nbformat": 4,
 "nbformat_minor": 4
}
